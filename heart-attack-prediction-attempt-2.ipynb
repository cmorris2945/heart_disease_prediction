{
 "cells": [
  {
   "cell_type": "code",
   "execution_count": null,
   "id": "71fa8b9d",
   "metadata": {
    "papermill": {
     "duration": 0.011363,
     "end_time": "2025-01-17T01:42:12.638007",
     "exception": false,
     "start_time": "2025-01-17T01:42:12.626644",
     "status": "completed"
    },
    "tags": []
   },
   "outputs": [],
   "source": []
  },
  {
   "cell_type": "markdown",
   "id": "4c09bb1c",
   "metadata": {
    "papermill": {
     "duration": 0.010203,
     "end_time": "2025-01-17T01:42:12.658945",
     "exception": false,
     "start_time": "2025-01-17T01:42:12.648742",
     "status": "completed"
    },
    "tags": []
   },
   "source": [
    "#### 1.2 Recognizing Variables in My Dataset <a id = 3 ></a>"
   ]
  },
  {
   "cell_type": "markdown",
   "id": "9235fb21",
   "metadata": {
    "papermill": {
     "duration": 0.010004,
     "end_time": "2025-01-17T01:42:12.679278",
     "exception": false,
     "start_time": "2025-01-17T01:42:12.669274",
     "status": "completed"
    },
    "tags": []
   },
   "source": []
  },
  {
   "cell_type": "markdown",
   "id": "bf514ae0",
   "metadata": {
    "papermill": {
     "duration": 0.009966,
     "end_time": "2025-01-17T01:42:12.699740",
     "exception": false,
     "start_time": "2025-01-17T01:42:12.689774",
     "status": "completed"
    },
    "tags": []
   },
   "source": [
    "### # Project Content\n",
    "1. [Introduction](#1)\n",
    "    * 1.1 [Examaning the Project Topic](#2)\n",
    "    * 1.2 [Recognizing Variables in the dataset](#3)\n",
    "2. [First Organization](#4)\n",
    "    * 2.1 [Required Python Libraries](#5)\n",
    "        * 2.1.1 [Basic Libraries](#6)\n",
    "    * 2.2 [Loading The Dataset](#7)\n",
    "        * 2.3.1 [Analysis Outputs(1)](#9)\n",
    "3. [Preparation for Exploratory Data Analysis(EDA)](#10)\n",
    "     * 3.1 [Examing Missing Values](#11)\n",
    "     * 3.2 [Examing Unique Values](#12)\n",
    "     * 3.3 [Separting Variables Variables (Numbers or Categorical)](#13)\n",
    "     * 3.4 [Examining Statistics of Variables](#14)\n",
    "4. [Exploratory Data Analysis (EDA)](#15)\n",
    "     * 4.1 [Uni-Variate Analysis](#16)\n",
    "        * 4.1.1 [Numerical Variable Analysis](#17)\n",
    "        * 4.1.2 [Categorical Variables(Analysis with Pie Chart)](#18)"
   ]
  },
  {
   "cell_type": "markdown",
   "id": "f0dcd33c",
   "metadata": {
    "papermill": {
     "duration": 0.010117,
     "end_time": "2025-01-17T01:42:12.720722",
     "exception": false,
     "start_time": "2025-01-17T01:42:12.710605",
     "status": "completed"
    },
    "tags": []
   },
   "source": [
    "### 1. INTRODUCTION <a id = 1></a>"
   ]
  },
  {
   "cell_type": "markdown",
   "id": "060a0bcb",
   "metadata": {
    "papermill": {
     "duration": 0.00993,
     "end_time": "2025-01-17T01:42:12.740970",
     "exception": false,
     "start_time": "2025-01-17T01:42:12.731040",
     "status": "completed"
    },
    "tags": []
   },
   "source": [
    "#### 1.1 Examing the Project Topic<a id = 2></a>"
   ]
  },
  {
   "cell_type": "code",
   "execution_count": null,
   "id": "da3db4fd",
   "metadata": {
    "papermill": {
     "duration": 0.010275,
     "end_time": "2025-01-17T01:42:12.761621",
     "exception": false,
     "start_time": "2025-01-17T01:42:12.751346",
     "status": "completed"
    },
    "tags": []
   },
   "outputs": [],
   "source": []
  },
  {
   "cell_type": "code",
   "execution_count": null,
   "id": "a3cfc5b2",
   "metadata": {
    "papermill": {
     "duration": 0.010119,
     "end_time": "2025-01-17T01:42:12.782522",
     "exception": false,
     "start_time": "2025-01-17T01:42:12.772403",
     "status": "completed"
    },
    "tags": []
   },
   "outputs": [],
   "source": []
  },
  {
   "cell_type": "code",
   "execution_count": null,
   "id": "8cbf1b02",
   "metadata": {
    "papermill": {
     "duration": 0.010043,
     "end_time": "2025-01-17T01:42:12.802872",
     "exception": false,
     "start_time": "2025-01-17T01:42:12.792829",
     "status": "completed"
    },
    "tags": []
   },
   "outputs": [],
   "source": []
  },
  {
   "cell_type": "code",
   "execution_count": null,
   "id": "5af2d4e8",
   "metadata": {
    "papermill": {
     "duration": 0.010059,
     "end_time": "2025-01-17T01:42:12.823134",
     "exception": false,
     "start_time": "2025-01-17T01:42:12.813075",
     "status": "completed"
    },
    "tags": []
   },
   "outputs": [],
   "source": []
  },
  {
   "cell_type": "code",
   "execution_count": null,
   "id": "5603621a",
   "metadata": {
    "papermill": {
     "duration": 0.010039,
     "end_time": "2025-01-17T01:42:12.843433",
     "exception": false,
     "start_time": "2025-01-17T01:42:12.833394",
     "status": "completed"
    },
    "tags": []
   },
   "outputs": [],
   "source": []
  },
  {
   "cell_type": "markdown",
   "id": "a44fea1f",
   "metadata": {
    "papermill": {
     "duration": 0.010077,
     "end_time": "2025-01-17T01:42:12.863698",
     "exception": false,
     "start_time": "2025-01-17T01:42:12.853621",
     "status": "completed"
    },
    "tags": []
   },
   "source": [
    "#### 1.2 Recognizing Variables in Dataset <a id = 3 ></a>"
   ]
  },
  {
   "cell_type": "code",
   "execution_count": 1,
   "id": "cacc5608",
   "metadata": {
    "execution": {
     "iopub.execute_input": "2025-01-17T01:42:12.886176Z",
     "iopub.status.busy": "2025-01-17T01:42:12.885785Z",
     "iopub.status.idle": "2025-01-17T01:42:12.893915Z",
     "shell.execute_reply": "2025-01-17T01:42:12.892920Z"
    },
    "papermill": {
     "duration": 0.02116,
     "end_time": "2025-01-17T01:42:12.895591",
     "exception": false,
     "start_time": "2025-01-17T01:42:12.874431",
     "status": "completed"
    },
    "tags": []
   },
   "outputs": [
    {
     "data": {
      "text/plain": [
       "\"Variable definitions in the Dataset\\n\\nAge: Age of the patient\\nSex: Sex of the patient\\nexang: exercise induced angina (1 = yes; 0 = no)\\nca: number of major vessels (0-3)\\ncp: Chest Pain type chest pain type\\nValue 1: typical angina\\nValue 2: atypical angina\\nValue 3: non-anginal pain\\nValue 4: asymptomatic\\ntrtbps: resting blood pressure (in mm Hg)\\nchol: cholestoral in mg/dl fetched via BMI sensor\\nfbs: (fasting blood sugar > 120 mg/dl) (1 = true; 0 = false)\\n_restecg: resting electrocardiographic results\\nValue 0: normal\\nValue 1: having ST-T wave abnormality (T wave inversions and/or ST elevation or depression of > 0.05 mV)\\nValue 2: showing probable or definite left ventricular hypertrophy by Estes' criteria\\nthalach: maximum heart rate achieved\\ntarget: 0= less chance of heart attack 1= more chance of heart attack\""
      ]
     },
     "execution_count": 1,
     "metadata": {},
     "output_type": "execute_result"
    }
   ],
   "source": [
    "'''Variable definitions in the Dataset\n",
    "\n",
    "Age: Age of the patient\n",
    "Sex: Sex of the patient\n",
    "exang: exercise induced angina (1 = yes; 0 = no)\n",
    "ca: number of major vessels (0-3)\n",
    "cp: Chest Pain type chest pain type\n",
    "Value 1: typical angina\n",
    "Value 2: atypical angina\n",
    "Value 3: non-anginal pain\n",
    "Value 4: asymptomatic\n",
    "trtbps: resting blood pressure (in mm Hg)\n",
    "chol: cholestoral in mg/dl fetched via BMI sensor\n",
    "fbs: (fasting blood sugar > 120 mg/dl) (1 = true; 0 = false)\n",
    "_restecg: resting electrocardiographic results\n",
    "Value 0: normal\n",
    "Value 1: having ST-T wave abnormality (T wave inversions and/or ST elevation or depression of > 0.05 mV)\n",
    "Value 2: showing probable or definite left ventricular hypertrophy by Estes' criteria\n",
    "thalach: maximum heart rate achieved\n",
    "target: 0= less chance of heart attack 1= more chance of heart attack'''"
   ]
  },
  {
   "cell_type": "code",
   "execution_count": null,
   "id": "05d03d4f",
   "metadata": {
    "papermill": {
     "duration": 0.010275,
     "end_time": "2025-01-17T01:42:12.917944",
     "exception": false,
     "start_time": "2025-01-17T01:42:12.907669",
     "status": "completed"
    },
    "tags": []
   },
   "outputs": [],
   "source": []
  },
  {
   "cell_type": "markdown",
   "id": "146c7341",
   "metadata": {
    "papermill": {
     "duration": 0.010023,
     "end_time": "2025-01-17T01:42:12.938372",
     "exception": false,
     "start_time": "2025-01-17T01:42:12.928349",
     "status": "completed"
    },
    "tags": []
   },
   "source": [
    "**Additional Variables to Help with the Description...** \n",
    "\n",
    "age - age in years\n",
    "\n",
    "sex - sex (1 = male; 0 = female)\n",
    "\n",
    "cp - chest pain type (1 = typical angina; 2 = atypical angina; 3 = non-anginal pain; 0 = asymptomatic)\n",
    "\n",
    "trestbps - resting blood pressure (in mm Hg on admission to the hospital)\n",
    "\n",
    "chol - serum cholestoral in mg/dl\n",
    "\n",
    "fbs - fasting blood sugar > 120 mg/dl (1 = true; 0 = false)\n",
    "\n",
    "restecg - resting electrocardiographic results (1 = normal; 2 = having ST-T wave abnormality; 0 = hypertrophy)\n",
    "\n",
    "thalach - maximum heart rate achieved\n",
    "\n",
    "exang - exercise induced angina (1 = yes; 0 = no)\n",
    "\n",
    "oldpeak - ST depression induced by exercise relative to rest\n",
    "\n",
    "slope - the slope of the peak exercise ST segment (2 = upsloping; 1 = flat; 0 = downsloping)\n",
    "\n",
    "ca - number of major vessels (0-3) colored by flourosopy\n",
    "\n",
    "thal - 2 = normal; 1 = fixed defect; 3 = reversable defect\n",
    "\n",
    "num - the predicted attribute - diagnosis of heart disease (angiographic disease status) (Value 0 = < diameter narrowing; Value 1 = > 50% diameter narrowing)\n",
    "\n",
    "Note: You can find these varaiables definitions in the discussion section of the \"Heart attack analysis and prediction\" dataset. We thank the kaggle user Jay, who prepared the study."
   ]
  },
  {
   "cell_type": "markdown",
   "id": "a86e7ba9",
   "metadata": {
    "papermill": {
     "duration": 0.010183,
     "end_time": "2025-01-17T01:42:12.958858",
     "exception": false,
     "start_time": "2025-01-17T01:42:12.948675",
     "status": "completed"
    },
    "tags": []
   },
   "source": [
    "### First Organization <a id = 4 ></a>"
   ]
  },
  {
   "cell_type": "markdown",
   "id": "034b71e3",
   "metadata": {
    "papermill": {
     "duration": 0.010313,
     "end_time": "2025-01-17T01:42:12.979667",
     "exception": false,
     "start_time": "2025-01-17T01:42:12.969354",
     "status": "completed"
    },
    "tags": []
   },
   "source": [
    "#### 2.1 Required Python Libraries <a id = 5 ></a> "
   ]
  },
  {
   "cell_type": "markdown",
   "id": "b944e894",
   "metadata": {
    "papermill": {
     "duration": 0.010218,
     "end_time": "2025-01-17T01:42:13.000398",
     "exception": false,
     "start_time": "2025-01-17T01:42:12.990180",
     "status": "completed"
    },
    "tags": []
   },
   "source": [
    "#### 2.1.1 Basic Libraries <a id = 6 ></a> "
   ]
  },
  {
   "cell_type": "code",
   "execution_count": 2,
   "id": "f9651765",
   "metadata": {
    "_cell_guid": "b1076dfc-b9ad-4769-8c92-a6c4dae69d19",
    "_uuid": "8f2839f25d086af736a60e9eeb907d3b93b6e0e5",
    "execution": {
     "iopub.execute_input": "2025-01-17T01:42:13.023287Z",
     "iopub.status.busy": "2025-01-17T01:42:13.022907Z",
     "iopub.status.idle": "2025-01-17T01:42:15.358820Z",
     "shell.execute_reply": "2025-01-17T01:42:15.357574Z"
    },
    "papermill": {
     "duration": 2.34926,
     "end_time": "2025-01-17T01:42:15.360799",
     "exception": false,
     "start_time": "2025-01-17T01:42:13.011539",
     "status": "completed"
    },
    "tags": []
   },
   "outputs": [
    {
     "name": "stdout",
     "output_type": "stream",
     "text": [
      "/kaggle/input/heart-attack-analysis-and-prediction-dataset/o2Saturation.csv\n",
      "/kaggle/input/heart-attack-analysis-and-prediction-dataset/heart.csv\n"
     ]
    }
   ],
   "source": [
    "# This Python 3 environment comes with many helpful analytics libraries installed\n",
    "# It is defined by the kaggle/python Docker image: https://github.com/kaggle/docker-python\n",
    "# For example, here's several helpful packages to load\n",
    "\n",
    "import numpy as np # linear algebra\n",
    "import pandas as pd # data processing, CSV file I/O (e.g. pd.read_csv)\n",
    "\n",
    "# Input data files are available in the read-only \"../input/\" directory\n",
    "# For example, running this (by clicking run or pressing Shift+Enter) will list all files under the input directory\n",
    "\n",
    "import os\n",
    "for dirname, _, filenames in os.walk('/kaggle/input'):\n",
    "    for filename in filenames:\n",
    "        print(os.path.join(dirname, filename))\n",
    "\n",
    "import warnings\n",
    "warnings.filterwarnings(\"ignore\")\n",
    "\n",
    "import matplotlib.pyplot as plt\n",
    "import seaborn as sns"
   ]
  },
  {
   "cell_type": "code",
   "execution_count": null,
   "id": "12a283eb",
   "metadata": {
    "papermill": {
     "duration": 0.010781,
     "end_time": "2025-01-17T01:42:15.383051",
     "exception": false,
     "start_time": "2025-01-17T01:42:15.372270",
     "status": "completed"
    },
    "tags": []
   },
   "outputs": [],
   "source": []
  },
  {
   "cell_type": "markdown",
   "id": "d76ba15d",
   "metadata": {
    "papermill": {
     "duration": 0.010372,
     "end_time": "2025-01-17T01:42:15.403964",
     "exception": false,
     "start_time": "2025-01-17T01:42:15.393592",
     "status": "completed"
    },
    "tags": []
   },
   "source": [
    "#### 2.2 Loading Dataset <a id = 7 ></a> "
   ]
  },
  {
   "cell_type": "code",
   "execution_count": 3,
   "id": "8def5b73",
   "metadata": {
    "execution": {
     "iopub.execute_input": "2025-01-17T01:42:15.426463Z",
     "iopub.status.busy": "2025-01-17T01:42:15.425939Z",
     "iopub.status.idle": "2025-01-17T01:42:15.444289Z",
     "shell.execute_reply": "2025-01-17T01:42:15.443107Z"
    },
    "papermill": {
     "duration": 0.031654,
     "end_time": "2025-01-17T01:42:15.446180",
     "exception": false,
     "start_time": "2025-01-17T01:42:15.414526",
     "status": "completed"
    },
    "tags": []
   },
   "outputs": [],
   "source": [
    "df = pd.read_csv(\"/kaggle/input/heart-attack-analysis-and-prediction-dataset/heart.csv\")"
   ]
  },
  {
   "cell_type": "markdown",
   "id": "5248122c",
   "metadata": {
    "papermill": {
     "duration": 0.010366,
     "end_time": "2025-01-17T01:42:15.467307",
     "exception": false,
     "start_time": "2025-01-17T01:42:15.456941",
     "status": "completed"
    },
    "tags": []
   },
   "source": [
    "#### 2.3 Initial Analysis <a id = 8 ></a> "
   ]
  },
  {
   "cell_type": "code",
   "execution_count": 4,
   "id": "23e175a7",
   "metadata": {
    "execution": {
     "iopub.execute_input": "2025-01-17T01:42:15.489653Z",
     "iopub.status.busy": "2025-01-17T01:42:15.489328Z",
     "iopub.status.idle": "2025-01-17T01:42:15.509774Z",
     "shell.execute_reply": "2025-01-17T01:42:15.508710Z"
    },
    "jupyter": {
     "source_hidden": true
    },
    "papermill": {
     "duration": 0.034058,
     "end_time": "2025-01-17T01:42:15.511846",
     "exception": false,
     "start_time": "2025-01-17T01:42:15.477788",
     "status": "completed"
    },
    "tags": []
   },
   "outputs": [
    {
     "data": {
      "text/html": [
       "<div>\n",
       "<style scoped>\n",
       "    .dataframe tbody tr th:only-of-type {\n",
       "        vertical-align: middle;\n",
       "    }\n",
       "\n",
       "    .dataframe tbody tr th {\n",
       "        vertical-align: top;\n",
       "    }\n",
       "\n",
       "    .dataframe thead th {\n",
       "        text-align: right;\n",
       "    }\n",
       "</style>\n",
       "<table border=\"1\" class=\"dataframe\">\n",
       "  <thead>\n",
       "    <tr style=\"text-align: right;\">\n",
       "      <th></th>\n",
       "      <th>age</th>\n",
       "      <th>sex</th>\n",
       "      <th>cp</th>\n",
       "      <th>trtbps</th>\n",
       "      <th>chol</th>\n",
       "      <th>fbs</th>\n",
       "      <th>restecg</th>\n",
       "      <th>thalachh</th>\n",
       "      <th>exng</th>\n",
       "      <th>oldpeak</th>\n",
       "      <th>slp</th>\n",
       "      <th>caa</th>\n",
       "      <th>thall</th>\n",
       "      <th>output</th>\n",
       "    </tr>\n",
       "  </thead>\n",
       "  <tbody>\n",
       "    <tr>\n",
       "      <th>0</th>\n",
       "      <td>63</td>\n",
       "      <td>1</td>\n",
       "      <td>3</td>\n",
       "      <td>145</td>\n",
       "      <td>233</td>\n",
       "      <td>1</td>\n",
       "      <td>0</td>\n",
       "      <td>150</td>\n",
       "      <td>0</td>\n",
       "      <td>2.3</td>\n",
       "      <td>0</td>\n",
       "      <td>0</td>\n",
       "      <td>1</td>\n",
       "      <td>1</td>\n",
       "    </tr>\n",
       "    <tr>\n",
       "      <th>1</th>\n",
       "      <td>37</td>\n",
       "      <td>1</td>\n",
       "      <td>2</td>\n",
       "      <td>130</td>\n",
       "      <td>250</td>\n",
       "      <td>0</td>\n",
       "      <td>1</td>\n",
       "      <td>187</td>\n",
       "      <td>0</td>\n",
       "      <td>3.5</td>\n",
       "      <td>0</td>\n",
       "      <td>0</td>\n",
       "      <td>2</td>\n",
       "      <td>1</td>\n",
       "    </tr>\n",
       "    <tr>\n",
       "      <th>2</th>\n",
       "      <td>41</td>\n",
       "      <td>0</td>\n",
       "      <td>1</td>\n",
       "      <td>130</td>\n",
       "      <td>204</td>\n",
       "      <td>0</td>\n",
       "      <td>0</td>\n",
       "      <td>172</td>\n",
       "      <td>0</td>\n",
       "      <td>1.4</td>\n",
       "      <td>2</td>\n",
       "      <td>0</td>\n",
       "      <td>2</td>\n",
       "      <td>1</td>\n",
       "    </tr>\n",
       "    <tr>\n",
       "      <th>3</th>\n",
       "      <td>56</td>\n",
       "      <td>1</td>\n",
       "      <td>1</td>\n",
       "      <td>120</td>\n",
       "      <td>236</td>\n",
       "      <td>0</td>\n",
       "      <td>1</td>\n",
       "      <td>178</td>\n",
       "      <td>0</td>\n",
       "      <td>0.8</td>\n",
       "      <td>2</td>\n",
       "      <td>0</td>\n",
       "      <td>2</td>\n",
       "      <td>1</td>\n",
       "    </tr>\n",
       "    <tr>\n",
       "      <th>4</th>\n",
       "      <td>57</td>\n",
       "      <td>0</td>\n",
       "      <td>0</td>\n",
       "      <td>120</td>\n",
       "      <td>354</td>\n",
       "      <td>0</td>\n",
       "      <td>1</td>\n",
       "      <td>163</td>\n",
       "      <td>1</td>\n",
       "      <td>0.6</td>\n",
       "      <td>2</td>\n",
       "      <td>0</td>\n",
       "      <td>2</td>\n",
       "      <td>1</td>\n",
       "    </tr>\n",
       "  </tbody>\n",
       "</table>\n",
       "</div>"
      ],
      "text/plain": [
       "   age  sex  cp  trtbps  chol  fbs  restecg  thalachh  exng  oldpeak  slp  \\\n",
       "0   63    1   3     145   233    1        0       150     0      2.3    0   \n",
       "1   37    1   2     130   250    0        1       187     0      3.5    0   \n",
       "2   41    0   1     130   204    0        0       172     0      1.4    2   \n",
       "3   56    1   1     120   236    0        1       178     0      0.8    2   \n",
       "4   57    0   0     120   354    0        1       163     1      0.6    2   \n",
       "\n",
       "   caa  thall  output  \n",
       "0    0      1       1  \n",
       "1    0      2       1  \n",
       "2    0      2       1  \n",
       "3    0      2       1  \n",
       "4    0      2       1  "
      ]
     },
     "execution_count": 4,
     "metadata": {},
     "output_type": "execute_result"
    }
   ],
   "source": [
    "df.head()"
   ]
  },
  {
   "cell_type": "code",
   "execution_count": 5,
   "id": "3af88b3e",
   "metadata": {
    "execution": {
     "iopub.execute_input": "2025-01-17T01:42:15.536431Z",
     "iopub.status.busy": "2025-01-17T01:42:15.536051Z",
     "iopub.status.idle": "2025-01-17T01:42:15.540367Z",
     "shell.execute_reply": "2025-01-17T01:42:15.539289Z"
    },
    "papermill": {
     "duration": 0.017695,
     "end_time": "2025-01-17T01:42:15.541812",
     "exception": false,
     "start_time": "2025-01-17T01:42:15.524117",
     "status": "completed"
    },
    "tags": []
   },
   "outputs": [],
   "source": [
    "new_columns = ['age', 'sex', 'cp', 'trtbps', 'chol', 'fbs', 'restecg', 'thalachh',\n",
    "       'exng', 'oldpeak', 'slp', 'caa', 'thall', 'target']"
   ]
  },
  {
   "cell_type": "code",
   "execution_count": 6,
   "id": "cdddca6f",
   "metadata": {
    "execution": {
     "iopub.execute_input": "2025-01-17T01:42:15.565210Z",
     "iopub.status.busy": "2025-01-17T01:42:15.564805Z",
     "iopub.status.idle": "2025-01-17T01:42:15.569019Z",
     "shell.execute_reply": "2025-01-17T01:42:15.567974Z"
    },
    "papermill": {
     "duration": 0.017922,
     "end_time": "2025-01-17T01:42:15.570760",
     "exception": false,
     "start_time": "2025-01-17T01:42:15.552838",
     "status": "completed"
    },
    "tags": []
   },
   "outputs": [],
   "source": [
    "df.columns = new_columns\n"
   ]
  },
  {
   "cell_type": "code",
   "execution_count": 7,
   "id": "f794f13d",
   "metadata": {
    "execution": {
     "iopub.execute_input": "2025-01-17T01:42:15.593783Z",
     "iopub.status.busy": "2025-01-17T01:42:15.593435Z",
     "iopub.status.idle": "2025-01-17T01:42:15.598187Z",
     "shell.execute_reply": "2025-01-17T01:42:15.596965Z"
    },
    "papermill": {
     "duration": 0.018197,
     "end_time": "2025-01-17T01:42:15.599841",
     "exception": false,
     "start_time": "2025-01-17T01:42:15.581644",
     "status": "completed"
    },
    "tags": []
   },
   "outputs": [
    {
     "name": "stdout",
     "output_type": "stream",
     "text": [
      "Shape of Data:  (303, 14)\n"
     ]
    }
   ],
   "source": [
    "print(\"Shape of Data: \", df.shape)"
   ]
  },
  {
   "cell_type": "code",
   "execution_count": 8,
   "id": "c127e4fd",
   "metadata": {
    "execution": {
     "iopub.execute_input": "2025-01-17T01:42:15.623190Z",
     "iopub.status.busy": "2025-01-17T01:42:15.622778Z",
     "iopub.status.idle": "2025-01-17T01:42:15.648888Z",
     "shell.execute_reply": "2025-01-17T01:42:15.647542Z"
    },
    "papermill": {
     "duration": 0.040176,
     "end_time": "2025-01-17T01:42:15.651000",
     "exception": false,
     "start_time": "2025-01-17T01:42:15.610824",
     "status": "completed"
    },
    "tags": []
   },
   "outputs": [
    {
     "name": "stdout",
     "output_type": "stream",
     "text": [
      "<class 'pandas.core.frame.DataFrame'>\n",
      "RangeIndex: 303 entries, 0 to 302\n",
      "Data columns (total 14 columns):\n",
      " #   Column    Non-Null Count  Dtype  \n",
      "---  ------    --------------  -----  \n",
      " 0   age       303 non-null    int64  \n",
      " 1   sex       303 non-null    int64  \n",
      " 2   cp        303 non-null    int64  \n",
      " 3   trtbps    303 non-null    int64  \n",
      " 4   chol      303 non-null    int64  \n",
      " 5   fbs       303 non-null    int64  \n",
      " 6   restecg   303 non-null    int64  \n",
      " 7   thalachh  303 non-null    int64  \n",
      " 8   exng      303 non-null    int64  \n",
      " 9   oldpeak   303 non-null    float64\n",
      " 10  slp       303 non-null    int64  \n",
      " 11  caa       303 non-null    int64  \n",
      " 12  thall     303 non-null    int64  \n",
      " 13  target    303 non-null    int64  \n",
      "dtypes: float64(1), int64(13)\n",
      "memory usage: 33.3 KB\n"
     ]
    }
   ],
   "source": [
    "df.info()"
   ]
  },
  {
   "cell_type": "markdown",
   "id": "d724406b",
   "metadata": {
    "papermill": {
     "duration": 0.011153,
     "end_time": "2025-01-17T01:42:15.673709",
     "exception": false,
     "start_time": "2025-01-17T01:42:15.662556",
     "status": "completed"
    },
    "tags": []
   },
   "source": [
    "#### 2.3.1 Analysis Outputs(1) <a id = 9 ></a> \n",
    "\n",
    "    * The Data Set consists of 303 Rows and 14 Columns.\n",
    "    *The type of all the variables in the data set are in numerical format. (Integer Or Float)\n",
    "    *According to first impressions, there is no missing value(NaN Value) in the data set."
   ]
  },
  {
   "cell_type": "code",
   "execution_count": null,
   "id": "d6dd520c",
   "metadata": {
    "jupyter": {
     "source_hidden": true
    },
    "papermill": {
     "duration": 0.010862,
     "end_time": "2025-01-17T01:42:15.696313",
     "exception": false,
     "start_time": "2025-01-17T01:42:15.685451",
     "status": "completed"
    },
    "tags": []
   },
   "outputs": [],
   "source": []
  },
  {
   "cell_type": "markdown",
   "id": "5b2d7fa1",
   "metadata": {
    "papermill": {
     "duration": 0.010707,
     "end_time": "2025-01-17T01:42:15.718577",
     "exception": false,
     "start_time": "2025-01-17T01:42:15.707870",
     "status": "completed"
    },
    "tags": []
   },
   "source": [
    "### 3. Exploratory Analysis <a id = 10 ></a>"
   ]
  },
  {
   "cell_type": "markdown",
   "id": "7f4ae361",
   "metadata": {
    "papermill": {
     "duration": 0.01318,
     "end_time": "2025-01-17T01:42:15.743894",
     "exception": false,
     "start_time": "2025-01-17T01:42:15.730714",
     "status": "completed"
    },
    "tags": []
   },
   "source": [
    "#### 3.1 Examining Missing Values <a id = 11 ></a> \n"
   ]
  },
  {
   "cell_type": "code",
   "execution_count": 9,
   "id": "8461a1d1",
   "metadata": {
    "execution": {
     "iopub.execute_input": "2025-01-17T01:42:15.773078Z",
     "iopub.status.busy": "2025-01-17T01:42:15.772739Z",
     "iopub.status.idle": "2025-01-17T01:42:15.779978Z",
     "shell.execute_reply": "2025-01-17T01:42:15.778955Z"
    },
    "papermill": {
     "duration": 0.024956,
     "end_time": "2025-01-17T01:42:15.781653",
     "exception": false,
     "start_time": "2025-01-17T01:42:15.756697",
     "status": "completed"
    },
    "tags": []
   },
   "outputs": [
    {
     "data": {
      "text/plain": [
       "age         0\n",
       "sex         0\n",
       "cp          0\n",
       "trtbps      0\n",
       "chol        0\n",
       "fbs         0\n",
       "restecg     0\n",
       "thalachh    0\n",
       "exng        0\n",
       "oldpeak     0\n",
       "slp         0\n",
       "caa         0\n",
       "thall       0\n",
       "target      0\n",
       "dtype: int64"
      ]
     },
     "execution_count": 9,
     "metadata": {},
     "output_type": "execute_result"
    }
   ],
   "source": [
    "df.isnull().sum()"
   ]
  },
  {
   "cell_type": "code",
   "execution_count": 10,
   "id": "cf1ba116",
   "metadata": {
    "execution": {
     "iopub.execute_input": "2025-01-17T01:42:15.810399Z",
     "iopub.status.busy": "2025-01-17T01:42:15.809910Z",
     "iopub.status.idle": "2025-01-17T01:42:15.824436Z",
     "shell.execute_reply": "2025-01-17T01:42:15.823308Z"
    },
    "papermill": {
     "duration": 0.030722,
     "end_time": "2025-01-17T01:42:15.826043",
     "exception": false,
     "start_time": "2025-01-17T01:42:15.795321",
     "status": "completed"
    },
    "tags": []
   },
   "outputs": [
    {
     "data": {
      "text/html": [
       "<div>\n",
       "<style scoped>\n",
       "    .dataframe tbody tr th:only-of-type {\n",
       "        vertical-align: middle;\n",
       "    }\n",
       "\n",
       "    .dataframe tbody tr th {\n",
       "        vertical-align: top;\n",
       "    }\n",
       "\n",
       "    .dataframe thead th {\n",
       "        text-align: right;\n",
       "    }\n",
       "</style>\n",
       "<table border=\"1\" class=\"dataframe\">\n",
       "  <thead>\n",
       "    <tr style=\"text-align: right;\">\n",
       "      <th></th>\n",
       "      <th>Total Missing Values</th>\n",
       "    </tr>\n",
       "  </thead>\n",
       "  <tbody>\n",
       "    <tr>\n",
       "      <th>age</th>\n",
       "      <td>0</td>\n",
       "    </tr>\n",
       "    <tr>\n",
       "      <th>sex</th>\n",
       "      <td>0</td>\n",
       "    </tr>\n",
       "    <tr>\n",
       "      <th>cp</th>\n",
       "      <td>0</td>\n",
       "    </tr>\n",
       "    <tr>\n",
       "      <th>trtbps</th>\n",
       "      <td>0</td>\n",
       "    </tr>\n",
       "    <tr>\n",
       "      <th>chol</th>\n",
       "      <td>0</td>\n",
       "    </tr>\n",
       "    <tr>\n",
       "      <th>fbs</th>\n",
       "      <td>0</td>\n",
       "    </tr>\n",
       "    <tr>\n",
       "      <th>restecg</th>\n",
       "      <td>0</td>\n",
       "    </tr>\n",
       "    <tr>\n",
       "      <th>thalachh</th>\n",
       "      <td>0</td>\n",
       "    </tr>\n",
       "    <tr>\n",
       "      <th>exng</th>\n",
       "      <td>0</td>\n",
       "    </tr>\n",
       "    <tr>\n",
       "      <th>oldpeak</th>\n",
       "      <td>0</td>\n",
       "    </tr>\n",
       "    <tr>\n",
       "      <th>slp</th>\n",
       "      <td>0</td>\n",
       "    </tr>\n",
       "    <tr>\n",
       "      <th>caa</th>\n",
       "      <td>0</td>\n",
       "    </tr>\n",
       "    <tr>\n",
       "      <th>thall</th>\n",
       "      <td>0</td>\n",
       "    </tr>\n",
       "    <tr>\n",
       "      <th>target</th>\n",
       "      <td>0</td>\n",
       "    </tr>\n",
       "  </tbody>\n",
       "</table>\n",
       "</div>"
      ],
      "text/plain": [
       "          Total Missing Values\n",
       "age                          0\n",
       "sex                          0\n",
       "cp                           0\n",
       "trtbps                       0\n",
       "chol                         0\n",
       "fbs                          0\n",
       "restecg                      0\n",
       "thalachh                     0\n",
       "exng                         0\n",
       "oldpeak                      0\n",
       "slp                          0\n",
       "caa                          0\n",
       "thall                        0\n",
       "target                       0"
      ]
     },
     "execution_count": 10,
     "metadata": {},
     "output_type": "execute_result"
    }
   ],
   "source": [
    "isnull_number = []\n",
    "for i in df.columns:\n",
    "    x = df[i].isnull().sum()\n",
    "    isnull_number.append(x)\n",
    "\n",
    "pd.DataFrame(isnull_number, index=df.columns, columns = [\"Total Missing Values\"])"
   ]
  },
  {
   "cell_type": "code",
   "execution_count": 11,
   "id": "763b334f",
   "metadata": {
    "execution": {
     "iopub.execute_input": "2025-01-17T01:42:15.850277Z",
     "iopub.status.busy": "2025-01-17T01:42:15.849895Z",
     "iopub.status.idle": "2025-01-17T01:42:17.257726Z",
     "shell.execute_reply": "2025-01-17T01:42:17.256456Z"
    },
    "papermill": {
     "duration": 1.422055,
     "end_time": "2025-01-17T01:42:17.259799",
     "exception": false,
     "start_time": "2025-01-17T01:42:15.837744",
     "status": "completed"
    },
    "tags": []
   },
   "outputs": [
    {
     "data": {
      "text/plain": [
       "<Axes: >"
      ]
     },
     "execution_count": 11,
     "metadata": {},
     "output_type": "execute_result"
    },
    {
     "data": {
      "image/png": "[encoded data removed]",
      "text/plain": [
       "<Figure size 2500x1000 with 3 Axes>"
      ]
     },
     "metadata": {},
     "output_type": "display_data"
    }
   ],
   "source": [
    "import missingno\n",
    "missingno.bar(df, color='b')"
   ]
  },
  {
   "cell_type": "markdown",
   "id": "ef4948ed",
   "metadata": {
    "papermill": {
     "duration": 0.012659,
     "end_time": "2025-01-17T01:42:17.285562",
     "exception": false,
     "start_time": "2025-01-17T01:42:17.272903",
     "status": "completed"
    },
    "tags": []
   },
   "source": [
    "#### 3.2 Examining Unique Values <a id = 12 ></a> \n"
   ]
  },
  {
   "cell_type": "code",
   "execution_count": 12,
   "id": "3d612457",
   "metadata": {
    "execution": {
     "iopub.execute_input": "2025-01-17T01:42:17.312500Z",
     "iopub.status.busy": "2025-01-17T01:42:17.311998Z",
     "iopub.status.idle": "2025-01-17T01:42:17.329881Z",
     "shell.execute_reply": "2025-01-17T01:42:17.328893Z"
    },
    "papermill": {
     "duration": 0.033322,
     "end_time": "2025-01-17T01:42:17.331656",
     "exception": false,
     "start_time": "2025-01-17T01:42:17.298334",
     "status": "completed"
    },
    "tags": []
   },
   "outputs": [
    {
     "data": {
      "text/html": [
       "<div>\n",
       "<style scoped>\n",
       "    .dataframe tbody tr th:only-of-type {\n",
       "        vertical-align: middle;\n",
       "    }\n",
       "\n",
       "    .dataframe tbody tr th {\n",
       "        vertical-align: top;\n",
       "    }\n",
       "\n",
       "    .dataframe thead th {\n",
       "        text-align: right;\n",
       "    }\n",
       "</style>\n",
       "<table border=\"1\" class=\"dataframe\">\n",
       "  <thead>\n",
       "    <tr style=\"text-align: right;\">\n",
       "      <th></th>\n",
       "      <th>age</th>\n",
       "      <th>sex</th>\n",
       "      <th>cp</th>\n",
       "      <th>trtbps</th>\n",
       "      <th>chol</th>\n",
       "      <th>fbs</th>\n",
       "      <th>restecg</th>\n",
       "      <th>thalachh</th>\n",
       "      <th>exng</th>\n",
       "      <th>oldpeak</th>\n",
       "      <th>slp</th>\n",
       "      <th>caa</th>\n",
       "      <th>thall</th>\n",
       "      <th>target</th>\n",
       "    </tr>\n",
       "  </thead>\n",
       "  <tbody>\n",
       "    <tr>\n",
       "      <th>0</th>\n",
       "      <td>63</td>\n",
       "      <td>1</td>\n",
       "      <td>3</td>\n",
       "      <td>145</td>\n",
       "      <td>233</td>\n",
       "      <td>1</td>\n",
       "      <td>0</td>\n",
       "      <td>150</td>\n",
       "      <td>0</td>\n",
       "      <td>2.3</td>\n",
       "      <td>0</td>\n",
       "      <td>0</td>\n",
       "      <td>1</td>\n",
       "      <td>1</td>\n",
       "    </tr>\n",
       "    <tr>\n",
       "      <th>1</th>\n",
       "      <td>37</td>\n",
       "      <td>1</td>\n",
       "      <td>2</td>\n",
       "      <td>130</td>\n",
       "      <td>250</td>\n",
       "      <td>0</td>\n",
       "      <td>1</td>\n",
       "      <td>187</td>\n",
       "      <td>0</td>\n",
       "      <td>3.5</td>\n",
       "      <td>0</td>\n",
       "      <td>0</td>\n",
       "      <td>2</td>\n",
       "      <td>1</td>\n",
       "    </tr>\n",
       "    <tr>\n",
       "      <th>2</th>\n",
       "      <td>41</td>\n",
       "      <td>0</td>\n",
       "      <td>1</td>\n",
       "      <td>130</td>\n",
       "      <td>204</td>\n",
       "      <td>0</td>\n",
       "      <td>0</td>\n",
       "      <td>172</td>\n",
       "      <td>0</td>\n",
       "      <td>1.4</td>\n",
       "      <td>2</td>\n",
       "      <td>0</td>\n",
       "      <td>2</td>\n",
       "      <td>1</td>\n",
       "    </tr>\n",
       "    <tr>\n",
       "      <th>3</th>\n",
       "      <td>56</td>\n",
       "      <td>1</td>\n",
       "      <td>1</td>\n",
       "      <td>120</td>\n",
       "      <td>236</td>\n",
       "      <td>0</td>\n",
       "      <td>1</td>\n",
       "      <td>178</td>\n",
       "      <td>0</td>\n",
       "      <td>0.8</td>\n",
       "      <td>2</td>\n",
       "      <td>0</td>\n",
       "      <td>2</td>\n",
       "      <td>1</td>\n",
       "    </tr>\n",
       "    <tr>\n",
       "      <th>4</th>\n",
       "      <td>57</td>\n",
       "      <td>0</td>\n",
       "      <td>0</td>\n",
       "      <td>120</td>\n",
       "      <td>354</td>\n",
       "      <td>0</td>\n",
       "      <td>1</td>\n",
       "      <td>163</td>\n",
       "      <td>1</td>\n",
       "      <td>0.6</td>\n",
       "      <td>2</td>\n",
       "      <td>0</td>\n",
       "      <td>2</td>\n",
       "      <td>1</td>\n",
       "    </tr>\n",
       "  </tbody>\n",
       "</table>\n",
       "</div>"
      ],
      "text/plain": [
       "   age  sex  cp  trtbps  chol  fbs  restecg  thalachh  exng  oldpeak  slp  \\\n",
       "0   63    1   3     145   233    1        0       150     0      2.3    0   \n",
       "1   37    1   2     130   250    0        1       187     0      3.5    0   \n",
       "2   41    0   1     130   204    0        0       172     0      1.4    2   \n",
       "3   56    1   1     120   236    0        1       178     0      0.8    2   \n",
       "4   57    0   0     120   354    0        1       163     1      0.6    2   \n",
       "\n",
       "   caa  thall  target  \n",
       "0    0      1       1  \n",
       "1    0      2       1  \n",
       "2    0      2       1  \n",
       "3    0      2       1  \n",
       "4    0      2       1  "
      ]
     },
     "execution_count": 12,
     "metadata": {},
     "output_type": "execute_result"
    }
   ],
   "source": [
    "df.head()"
   ]
  },
  {
   "cell_type": "code",
   "execution_count": 13,
   "id": "23e5fe7e",
   "metadata": {
    "execution": {
     "iopub.execute_input": "2025-01-17T01:42:17.360196Z",
     "iopub.status.busy": "2025-01-17T01:42:17.359740Z",
     "iopub.status.idle": "2025-01-17T01:42:17.369353Z",
     "shell.execute_reply": "2025-01-17T01:42:17.368323Z"
    },
    "papermill": {
     "duration": 0.025467,
     "end_time": "2025-01-17T01:42:17.370962",
     "exception": false,
     "start_time": "2025-01-17T01:42:17.345495",
     "status": "completed"
    },
    "tags": []
   },
   "outputs": [
    {
     "data": {
      "text/plain": [
       "cp\n",
       "0    143\n",
       "2     87\n",
       "1     50\n",
       "3     23\n",
       "Name: count, dtype: int64"
      ]
     },
     "execution_count": 13,
     "metadata": {},
     "output_type": "execute_result"
    }
   ],
   "source": [
    "df['cp'].value_counts()"
   ]
  },
  {
   "cell_type": "code",
   "execution_count": 14,
   "id": "a8f0b3ec",
   "metadata": {
    "execution": {
     "iopub.execute_input": "2025-01-17T01:42:17.398353Z",
     "iopub.status.busy": "2025-01-17T01:42:17.397972Z",
     "iopub.status.idle": "2025-01-17T01:42:17.404474Z",
     "shell.execute_reply": "2025-01-17T01:42:17.403441Z"
    },
    "papermill": {
     "duration": 0.02244,
     "end_time": "2025-01-17T01:42:17.406432",
     "exception": false,
     "start_time": "2025-01-17T01:42:17.383992",
     "status": "completed"
    },
    "tags": []
   },
   "outputs": [
    {
     "data": {
      "text/plain": [
       "303"
      ]
     },
     "execution_count": 14,
     "metadata": {},
     "output_type": "execute_result"
    }
   ],
   "source": [
    "df['cp'].value_counts().sum()"
   ]
  },
  {
   "cell_type": "code",
   "execution_count": 15,
   "id": "8441b9fc",
   "metadata": {
    "execution": {
     "iopub.execute_input": "2025-01-17T01:42:17.440199Z",
     "iopub.status.busy": "2025-01-17T01:42:17.439832Z",
     "iopub.status.idle": "2025-01-17T01:42:17.446162Z",
     "shell.execute_reply": "2025-01-17T01:42:17.445222Z"
    },
    "papermill": {
     "duration": 0.022127,
     "end_time": "2025-01-17T01:42:17.447659",
     "exception": false,
     "start_time": "2025-01-17T01:42:17.425532",
     "status": "completed"
    },
    "tags": []
   },
   "outputs": [
    {
     "data": {
      "text/plain": [
       "4"
      ]
     },
     "execution_count": 15,
     "metadata": {},
     "output_type": "execute_result"
    }
   ],
   "source": [
    "df['cp'].value_counts().count()"
   ]
  },
  {
   "cell_type": "code",
   "execution_count": 16,
   "id": "546f4152",
   "metadata": {
    "execution": {
     "iopub.execute_input": "2025-01-17T01:42:17.475956Z",
     "iopub.status.busy": "2025-01-17T01:42:17.475621Z",
     "iopub.status.idle": "2025-01-17T01:42:17.492203Z",
     "shell.execute_reply": "2025-01-17T01:42:17.491046Z"
    },
    "papermill": {
     "duration": 0.033268,
     "end_time": "2025-01-17T01:42:17.494158",
     "exception": false,
     "start_time": "2025-01-17T01:42:17.460890",
     "status": "completed"
    },
    "tags": []
   },
   "outputs": [
    {
     "data": {
      "text/html": [
       "<div>\n",
       "<style scoped>\n",
       "    .dataframe tbody tr th:only-of-type {\n",
       "        vertical-align: middle;\n",
       "    }\n",
       "\n",
       "    .dataframe tbody tr th {\n",
       "        vertical-align: top;\n",
       "    }\n",
       "\n",
       "    .dataframe thead th {\n",
       "        text-align: right;\n",
       "    }\n",
       "</style>\n",
       "<table border=\"1\" class=\"dataframe\">\n",
       "  <thead>\n",
       "    <tr style=\"text-align: right;\">\n",
       "      <th></th>\n",
       "      <th>Total Unique Values</th>\n",
       "    </tr>\n",
       "  </thead>\n",
       "  <tbody>\n",
       "    <tr>\n",
       "      <th>age</th>\n",
       "      <td>41</td>\n",
       "    </tr>\n",
       "    <tr>\n",
       "      <th>sex</th>\n",
       "      <td>2</td>\n",
       "    </tr>\n",
       "    <tr>\n",
       "      <th>cp</th>\n",
       "      <td>4</td>\n",
       "    </tr>\n",
       "    <tr>\n",
       "      <th>trtbps</th>\n",
       "      <td>49</td>\n",
       "    </tr>\n",
       "    <tr>\n",
       "      <th>chol</th>\n",
       "      <td>152</td>\n",
       "    </tr>\n",
       "    <tr>\n",
       "      <th>fbs</th>\n",
       "      <td>2</td>\n",
       "    </tr>\n",
       "    <tr>\n",
       "      <th>restecg</th>\n",
       "      <td>3</td>\n",
       "    </tr>\n",
       "    <tr>\n",
       "      <th>thalachh</th>\n",
       "      <td>91</td>\n",
       "    </tr>\n",
       "    <tr>\n",
       "      <th>exng</th>\n",
       "      <td>2</td>\n",
       "    </tr>\n",
       "    <tr>\n",
       "      <th>oldpeak</th>\n",
       "      <td>40</td>\n",
       "    </tr>\n",
       "    <tr>\n",
       "      <th>slp</th>\n",
       "      <td>3</td>\n",
       "    </tr>\n",
       "    <tr>\n",
       "      <th>caa</th>\n",
       "      <td>5</td>\n",
       "    </tr>\n",
       "    <tr>\n",
       "      <th>thall</th>\n",
       "      <td>4</td>\n",
       "    </tr>\n",
       "    <tr>\n",
       "      <th>target</th>\n",
       "      <td>2</td>\n",
       "    </tr>\n",
       "  </tbody>\n",
       "</table>\n",
       "</div>"
      ],
      "text/plain": [
       "          Total Unique Values\n",
       "age                        41\n",
       "sex                         2\n",
       "cp                          4\n",
       "trtbps                     49\n",
       "chol                      152\n",
       "fbs                         2\n",
       "restecg                     3\n",
       "thalachh                   91\n",
       "exng                        2\n",
       "oldpeak                    40\n",
       "slp                         3\n",
       "caa                         5\n",
       "thall                       4\n",
       "target                      2"
      ]
     },
     "execution_count": 16,
     "metadata": {},
     "output_type": "execute_result"
    }
   ],
   "source": [
    "unique_number = []\n",
    "for i in df.columns:\n",
    "    x = df[i].value_counts().count()\n",
    "    unique_number.append(x)\n",
    "\n",
    "pd.DataFrame(unique_number, index=df.columns, columns = [\"Total Unique Values\"])"
   ]
  },
  {
   "cell_type": "code",
   "execution_count": null,
   "id": "20680b8b",
   "metadata": {
    "papermill": {
     "duration": 0.013987,
     "end_time": "2025-01-17T01:42:17.521744",
     "exception": false,
     "start_time": "2025-01-17T01:42:17.507757",
     "status": "completed"
    },
    "tags": []
   },
   "outputs": [],
   "source": []
  },
  {
   "cell_type": "markdown",
   "id": "b70ac393",
   "metadata": {
    "papermill": {
     "duration": 0.0131,
     "end_time": "2025-01-17T01:42:17.549643",
     "exception": false,
     "start_time": "2025-01-17T01:42:17.536543",
     "status": "completed"
    },
    "tags": []
   },
   "source": [
    "Analysis Outputs(2)\n",
    "\n",
    "\n",
    "According to the result from the unique value dataframe;\n",
    "We determined the variables with few unique values ​​as categorical variables, and the variables with high unique values ​​as numeric variables.\n",
    "In this context, Numeric Variables: “age”, “trtbps”, “chol”, “thalach” and “oldpeak ”\n",
    "Categorical Variables: \"sex\", \"cp\", \"fbs\", \"rest_ecg\", \"exang\", \"slope\", \"ca\", \"thal\", \"target\"\n",
    "In the next section, we will separate these 2 groups into 2 different lists."
   ]
  },
  {
   "cell_type": "code",
   "execution_count": null,
   "id": "331bb1c2",
   "metadata": {
    "papermill": {
     "duration": 0.012922,
     "end_time": "2025-01-17T01:42:17.576084",
     "exception": false,
     "start_time": "2025-01-17T01:42:17.563162",
     "status": "completed"
    },
    "tags": []
   },
   "outputs": [],
   "source": []
  },
  {
   "cell_type": "markdown",
   "id": "dc0f5e7f",
   "metadata": {
    "papermill": {
     "duration": 0.013006,
     "end_time": "2025-01-17T01:42:17.602470",
     "exception": false,
     "start_time": "2025-01-17T01:42:17.589464",
     "status": "completed"
    },
    "tags": []
   },
   "source": [
    "#### 3.3 Separating Variables (Numberic or Categorical) <a id = 13 ></a> \n"
   ]
  },
  {
   "cell_type": "code",
   "execution_count": 17,
   "id": "93590059",
   "metadata": {
    "execution": {
     "iopub.execute_input": "2025-01-17T01:42:17.630301Z",
     "iopub.status.busy": "2025-01-17T01:42:17.629887Z",
     "iopub.status.idle": "2025-01-17T01:42:17.643060Z",
     "shell.execute_reply": "2025-01-17T01:42:17.642073Z"
    },
    "papermill": {
     "duration": 0.028953,
     "end_time": "2025-01-17T01:42:17.644669",
     "exception": false,
     "start_time": "2025-01-17T01:42:17.615716",
     "status": "completed"
    },
    "tags": []
   },
   "outputs": [
    {
     "data": {
      "text/html": [
       "<div>\n",
       "<style scoped>\n",
       "    .dataframe tbody tr th:only-of-type {\n",
       "        vertical-align: middle;\n",
       "    }\n",
       "\n",
       "    .dataframe tbody tr th {\n",
       "        vertical-align: top;\n",
       "    }\n",
       "\n",
       "    .dataframe thead th {\n",
       "        text-align: right;\n",
       "    }\n",
       "</style>\n",
       "<table border=\"1\" class=\"dataframe\">\n",
       "  <thead>\n",
       "    <tr style=\"text-align: right;\">\n",
       "      <th></th>\n",
       "      <th>age</th>\n",
       "      <th>sex</th>\n",
       "      <th>cp</th>\n",
       "      <th>trtbps</th>\n",
       "      <th>chol</th>\n",
       "      <th>fbs</th>\n",
       "      <th>restecg</th>\n",
       "      <th>thalachh</th>\n",
       "      <th>exng</th>\n",
       "      <th>oldpeak</th>\n",
       "      <th>slp</th>\n",
       "      <th>caa</th>\n",
       "      <th>thall</th>\n",
       "      <th>target</th>\n",
       "    </tr>\n",
       "  </thead>\n",
       "  <tbody>\n",
       "    <tr>\n",
       "      <th>0</th>\n",
       "      <td>63</td>\n",
       "      <td>1</td>\n",
       "      <td>3</td>\n",
       "      <td>145</td>\n",
       "      <td>233</td>\n",
       "      <td>1</td>\n",
       "      <td>0</td>\n",
       "      <td>150</td>\n",
       "      <td>0</td>\n",
       "      <td>2.3</td>\n",
       "      <td>0</td>\n",
       "      <td>0</td>\n",
       "      <td>1</td>\n",
       "      <td>1</td>\n",
       "    </tr>\n",
       "    <tr>\n",
       "      <th>1</th>\n",
       "      <td>37</td>\n",
       "      <td>1</td>\n",
       "      <td>2</td>\n",
       "      <td>130</td>\n",
       "      <td>250</td>\n",
       "      <td>0</td>\n",
       "      <td>1</td>\n",
       "      <td>187</td>\n",
       "      <td>0</td>\n",
       "      <td>3.5</td>\n",
       "      <td>0</td>\n",
       "      <td>0</td>\n",
       "      <td>2</td>\n",
       "      <td>1</td>\n",
       "    </tr>\n",
       "    <tr>\n",
       "      <th>2</th>\n",
       "      <td>41</td>\n",
       "      <td>0</td>\n",
       "      <td>1</td>\n",
       "      <td>130</td>\n",
       "      <td>204</td>\n",
       "      <td>0</td>\n",
       "      <td>0</td>\n",
       "      <td>172</td>\n",
       "      <td>0</td>\n",
       "      <td>1.4</td>\n",
       "      <td>2</td>\n",
       "      <td>0</td>\n",
       "      <td>2</td>\n",
       "      <td>1</td>\n",
       "    </tr>\n",
       "    <tr>\n",
       "      <th>3</th>\n",
       "      <td>56</td>\n",
       "      <td>1</td>\n",
       "      <td>1</td>\n",
       "      <td>120</td>\n",
       "      <td>236</td>\n",
       "      <td>0</td>\n",
       "      <td>1</td>\n",
       "      <td>178</td>\n",
       "      <td>0</td>\n",
       "      <td>0.8</td>\n",
       "      <td>2</td>\n",
       "      <td>0</td>\n",
       "      <td>2</td>\n",
       "      <td>1</td>\n",
       "    </tr>\n",
       "    <tr>\n",
       "      <th>4</th>\n",
       "      <td>57</td>\n",
       "      <td>0</td>\n",
       "      <td>0</td>\n",
       "      <td>120</td>\n",
       "      <td>354</td>\n",
       "      <td>0</td>\n",
       "      <td>1</td>\n",
       "      <td>163</td>\n",
       "      <td>1</td>\n",
       "      <td>0.6</td>\n",
       "      <td>2</td>\n",
       "      <td>0</td>\n",
       "      <td>2</td>\n",
       "      <td>1</td>\n",
       "    </tr>\n",
       "  </tbody>\n",
       "</table>\n",
       "</div>"
      ],
      "text/plain": [
       "   age  sex  cp  trtbps  chol  fbs  restecg  thalachh  exng  oldpeak  slp  \\\n",
       "0   63    1   3     145   233    1        0       150     0      2.3    0   \n",
       "1   37    1   2     130   250    0        1       187     0      3.5    0   \n",
       "2   41    0   1     130   204    0        0       172     0      1.4    2   \n",
       "3   56    1   1     120   236    0        1       178     0      0.8    2   \n",
       "4   57    0   0     120   354    0        1       163     1      0.6    2   \n",
       "\n",
       "   caa  thall  target  \n",
       "0    0      1       1  \n",
       "1    0      2       1  \n",
       "2    0      2       1  \n",
       "3    0      2       1  \n",
       "4    0      2       1  "
      ]
     },
     "execution_count": 17,
     "metadata": {},
     "output_type": "execute_result"
    }
   ],
   "source": [
    "df.head()\n"
   ]
  },
  {
   "cell_type": "code",
   "execution_count": 18,
   "id": "fd2def5c",
   "metadata": {
    "execution": {
     "iopub.execute_input": "2025-01-17T01:42:17.674106Z",
     "iopub.status.busy": "2025-01-17T01:42:17.673649Z",
     "iopub.status.idle": "2025-01-17T01:42:17.678401Z",
     "shell.execute_reply": "2025-01-17T01:42:17.677341Z"
    },
    "papermill": {
     "duration": 0.021246,
     "end_time": "2025-01-17T01:42:17.680076",
     "exception": false,
     "start_time": "2025-01-17T01:42:17.658830",
     "status": "completed"
    },
    "tags": []
   },
   "outputs": [],
   "source": [
    "numeric_var =  ['age', 'trtbps', 'chol', 'thalachh', 'oldpeak']\n",
    "categoric_var = ['sex', 'cp', 'fbs', 'rest_ecg', 'exng', 'slope', 'ca', 'thall', 'target']"
   ]
  },
  {
   "cell_type": "code",
   "execution_count": null,
   "id": "79cb037a",
   "metadata": {
    "papermill": {
     "duration": 0.013209,
     "end_time": "2025-01-17T01:42:17.707127",
     "exception": false,
     "start_time": "2025-01-17T01:42:17.693918",
     "status": "completed"
    },
    "tags": []
   },
   "outputs": [],
   "source": []
  },
  {
   "cell_type": "markdown",
   "id": "18156add",
   "metadata": {
    "papermill": {
     "duration": 0.013089,
     "end_time": "2025-01-17T01:42:17.733710",
     "exception": false,
     "start_time": "2025-01-17T01:42:17.720621",
     "status": "completed"
    },
    "tags": []
   },
   "source": [
    "#### 3.4 Examing Statistics of Variables <a id = 14 ></a> \n"
   ]
  },
  {
   "cell_type": "code",
   "execution_count": 19,
   "id": "26acee52",
   "metadata": {
    "execution": {
     "iopub.execute_input": "2025-01-17T01:42:17.762025Z",
     "iopub.status.busy": "2025-01-17T01:42:17.761658Z",
     "iopub.status.idle": "2025-01-17T01:42:17.788317Z",
     "shell.execute_reply": "2025-01-17T01:42:17.787030Z"
    },
    "papermill": {
     "duration": 0.043106,
     "end_time": "2025-01-17T01:42:17.790260",
     "exception": false,
     "start_time": "2025-01-17T01:42:17.747154",
     "status": "completed"
    },
    "tags": []
   },
   "outputs": [
    {
     "data": {
      "text/html": [
       "<div>\n",
       "<style scoped>\n",
       "    .dataframe tbody tr th:only-of-type {\n",
       "        vertical-align: middle;\n",
       "    }\n",
       "\n",
       "    .dataframe tbody tr th {\n",
       "        vertical-align: top;\n",
       "    }\n",
       "\n",
       "    .dataframe thead th {\n",
       "        text-align: right;\n",
       "    }\n",
       "</style>\n",
       "<table border=\"1\" class=\"dataframe\">\n",
       "  <thead>\n",
       "    <tr style=\"text-align: right;\">\n",
       "      <th></th>\n",
       "      <th>age</th>\n",
       "      <th>trtbps</th>\n",
       "      <th>chol</th>\n",
       "      <th>thalachh</th>\n",
       "      <th>oldpeak</th>\n",
       "    </tr>\n",
       "  </thead>\n",
       "  <tbody>\n",
       "    <tr>\n",
       "      <th>count</th>\n",
       "      <td>303.000000</td>\n",
       "      <td>303.000000</td>\n",
       "      <td>303.000000</td>\n",
       "      <td>303.000000</td>\n",
       "      <td>303.000000</td>\n",
       "    </tr>\n",
       "    <tr>\n",
       "      <th>mean</th>\n",
       "      <td>54.366337</td>\n",
       "      <td>131.623762</td>\n",
       "      <td>246.264026</td>\n",
       "      <td>149.646865</td>\n",
       "      <td>1.039604</td>\n",
       "    </tr>\n",
       "    <tr>\n",
       "      <th>std</th>\n",
       "      <td>9.082101</td>\n",
       "      <td>17.538143</td>\n",
       "      <td>51.830751</td>\n",
       "      <td>22.905161</td>\n",
       "      <td>1.161075</td>\n",
       "    </tr>\n",
       "    <tr>\n",
       "      <th>min</th>\n",
       "      <td>29.000000</td>\n",
       "      <td>94.000000</td>\n",
       "      <td>126.000000</td>\n",
       "      <td>71.000000</td>\n",
       "      <td>0.000000</td>\n",
       "    </tr>\n",
       "    <tr>\n",
       "      <th>25%</th>\n",
       "      <td>47.500000</td>\n",
       "      <td>120.000000</td>\n",
       "      <td>211.000000</td>\n",
       "      <td>133.500000</td>\n",
       "      <td>0.000000</td>\n",
       "    </tr>\n",
       "    <tr>\n",
       "      <th>50%</th>\n",
       "      <td>55.000000</td>\n",
       "      <td>130.000000</td>\n",
       "      <td>240.000000</td>\n",
       "      <td>153.000000</td>\n",
       "      <td>0.800000</td>\n",
       "    </tr>\n",
       "    <tr>\n",
       "      <th>75%</th>\n",
       "      <td>61.000000</td>\n",
       "      <td>140.000000</td>\n",
       "      <td>274.500000</td>\n",
       "      <td>166.000000</td>\n",
       "      <td>1.600000</td>\n",
       "    </tr>\n",
       "    <tr>\n",
       "      <th>max</th>\n",
       "      <td>77.000000</td>\n",
       "      <td>200.000000</td>\n",
       "      <td>564.000000</td>\n",
       "      <td>202.000000</td>\n",
       "      <td>6.200000</td>\n",
       "    </tr>\n",
       "  </tbody>\n",
       "</table>\n",
       "</div>"
      ],
      "text/plain": [
       "              age      trtbps        chol    thalachh     oldpeak\n",
       "count  303.000000  303.000000  303.000000  303.000000  303.000000\n",
       "mean    54.366337  131.623762  246.264026  149.646865    1.039604\n",
       "std      9.082101   17.538143   51.830751   22.905161    1.161075\n",
       "min     29.000000   94.000000  126.000000   71.000000    0.000000\n",
       "25%     47.500000  120.000000  211.000000  133.500000    0.000000\n",
       "50%     55.000000  130.000000  240.000000  153.000000    0.800000\n",
       "75%     61.000000  140.000000  274.500000  166.000000    1.600000\n",
       "max     77.000000  200.000000  564.000000  202.000000    6.200000"
      ]
     },
     "execution_count": 19,
     "metadata": {},
     "output_type": "execute_result"
    }
   ],
   "source": [
    "df[numeric_var].describe()"
   ]
  },
  {
   "cell_type": "code",
   "execution_count": 20,
   "id": "5272b309",
   "metadata": {
    "execution": {
     "iopub.execute_input": "2025-01-17T01:42:17.819662Z",
     "iopub.status.busy": "2025-01-17T01:42:17.819301Z",
     "iopub.status.idle": "2025-01-17T01:42:18.148988Z",
     "shell.execute_reply": "2025-01-17T01:42:18.147908Z"
    },
    "papermill": {
     "duration": 0.346316,
     "end_time": "2025-01-17T01:42:18.150946",
     "exception": false,
     "start_time": "2025-01-17T01:42:17.804630",
     "status": "completed"
    },
    "tags": []
   },
   "outputs": [
    {
     "data": {
      "text/plain": [
       "<Axes: xlabel='age', ylabel='Density'>"
      ]
     },
     "execution_count": 20,
     "metadata": {},
     "output_type": "execute_result"
    },
    {
     "data": {
      "image/png": "[encoded data removed]",
      "text/plain": [
       "<Figure size 640x480 with 1 Axes>"
      ]
     },
     "metadata": {},
     "output_type": "display_data"
    }
   ],
   "source": [
    "sns.distplot(df['age'], hist_kws = dict(linewidth = 1, edgecolor= 'k'))"
   ]
  },
  {
   "cell_type": "code",
   "execution_count": 21,
   "id": "94fb4ba9",
   "metadata": {
    "execution": {
     "iopub.execute_input": "2025-01-17T01:42:18.182225Z",
     "iopub.status.busy": "2025-01-17T01:42:18.181810Z",
     "iopub.status.idle": "2025-01-17T01:42:18.495489Z",
     "shell.execute_reply": "2025-01-17T01:42:18.494155Z"
    },
    "papermill": {
     "duration": 0.331383,
     "end_time": "2025-01-17T01:42:18.497742",
     "exception": false,
     "start_time": "2025-01-17T01:42:18.166359",
     "status": "completed"
    },
    "tags": []
   },
   "outputs": [
    {
     "data": {
      "text/plain": [
       "<Axes: xlabel='trtbps', ylabel='Density'>"
      ]
     },
     "execution_count": 21,
     "metadata": {},
     "output_type": "execute_result"
    },
    {
     "data": {
      "image/png": "[encoded data removed]",
      "text/plain": [
       "<Figure size 640x480 with 1 Axes>"
      ]
     },
     "metadata": {},
     "output_type": "display_data"
    }
   ],
   "source": [
    "sns.distplot(df['trtbps'], hist_kws = dict(linewidth = 1, edgecolor= 'k'), bins= 20)"
   ]
  },
  {
   "cell_type": "code",
   "execution_count": 22,
   "id": "04cde75a",
   "metadata": {
    "execution": {
     "iopub.execute_input": "2025-01-17T01:42:18.535125Z",
     "iopub.status.busy": "2025-01-17T01:42:18.534637Z",
     "iopub.status.idle": "2025-01-17T01:42:18.811266Z",
     "shell.execute_reply": "2025-01-17T01:42:18.810215Z"
    },
    "papermill": {
     "duration": 0.298131,
     "end_time": "2025-01-17T01:42:18.812785",
     "exception": false,
     "start_time": "2025-01-17T01:42:18.514654",
     "status": "completed"
    },
    "tags": []
   },
   "outputs": [
    {
     "data": {
      "text/plain": [
       "<Axes: xlabel='chol', ylabel='Density'>"
      ]
     },
     "execution_count": 22,
     "metadata": {},
     "output_type": "execute_result"
    },
    {
     "data": {
      "image/png": "[encoded data removed]",
      "text/plain": [
       "<Figure size 640x480 with 1 Axes>"
      ]
     },
     "metadata": {},
     "output_type": "display_data"
    }
   ],
   "source": [
    "sns.distplot(df['chol'], hist = False)"
   ]
  },
  {
   "cell_type": "code",
   "execution_count": 23,
   "id": "c87aaa4d",
   "metadata": {
    "execution": {
     "iopub.execute_input": "2025-01-17T01:42:18.846364Z",
     "iopub.status.busy": "2025-01-17T01:42:18.845937Z",
     "iopub.status.idle": "2025-01-17T01:42:19.166394Z",
     "shell.execute_reply": "2025-01-17T01:42:19.165205Z"
    },
    "papermill": {
     "duration": 0.33919,
     "end_time": "2025-01-17T01:42:19.168175",
     "exception": false,
     "start_time": "2025-01-17T01:42:18.828985",
     "status": "completed"
    },
    "tags": []
   },
   "outputs": [
    {
     "data": {
      "text/plain": [
       "<matplotlib.lines.Line2D at 0x7f35185561d0>"
      ]
     },
     "execution_count": 23,
     "metadata": {},
     "output_type": "execute_result"
    },
    {
     "data": {
      "image/png": "[encoded data removed]",
      "text/plain": [
       "<Figure size 800x600 with 1 Axes>"
      ]
     },
     "metadata": {},
     "output_type": "display_data"
    }
   ],
   "source": [
    "X, y = plt.subplots(figsize= (8,6))\n",
    "\n",
    "sns.distplot(df['thalachh'], hist = False, ax = y)\n",
    "y.axvline(df['thalachh'].mean(),color= 'r', ls = \"--\")"
   ]
  },
  {
   "cell_type": "code",
   "execution_count": 24,
   "id": "93b3998b",
   "metadata": {
    "execution": {
     "iopub.execute_input": "2025-01-17T01:42:19.203707Z",
     "iopub.status.busy": "2025-01-17T01:42:19.203370Z",
     "iopub.status.idle": "2025-01-17T01:42:19.502692Z",
     "shell.execute_reply": "2025-01-17T01:42:19.501501Z"
    },
    "papermill": {
     "duration": 0.319213,
     "end_time": "2025-01-17T01:42:19.504636",
     "exception": false,
     "start_time": "2025-01-17T01:42:19.185423",
     "status": "completed"
    },
    "tags": []
   },
   "outputs": [
    {
     "data": {
      "text/plain": [
       "<matplotlib.lines.Line2D at 0x7f35185e7e50>"
      ]
     },
     "execution_count": 24,
     "metadata": {},
     "output_type": "execute_result"
    },
    {
     "data": {
      "image/png": "[encoded data removed]",
      "text/plain": [
       "<Figure size 800x600 with 1 Axes>"
      ]
     },
     "metadata": {},
     "output_type": "display_data"
    }
   ],
   "source": [
    "X, y = plt.subplots(figsize= (8,6))\n",
    "\n",
    "sns.distplot(df['oldpeak'], hist_kws = dict(linewidth = 1, edgecolor= 'k'), bins= 20)\n",
    "y.axvline(df['oldpeak'].mean(),color= 'r', ls = \"--\")"
   ]
  },
  {
   "cell_type": "markdown",
   "id": "7bb52770",
   "metadata": {
    "papermill": {
     "duration": 0.017243,
     "end_time": "2025-01-17T01:42:19.539953",
     "exception": false,
     "start_time": "2025-01-17T01:42:19.522710",
     "status": "completed"
    },
    "tags": []
   },
   "source": [
    "### 4. Exploratory Data Analysis <a id = 15></a>"
   ]
  },
  {
   "cell_type": "markdown",
   "id": "60e1db25",
   "metadata": {
    "papermill": {
     "duration": 0.017143,
     "end_time": "2025-01-17T01:42:19.574618",
     "exception": false,
     "start_time": "2025-01-17T01:42:19.557475",
     "status": "completed"
    },
    "tags": []
   },
   "source": [
    "#### 4.1 Separating Variables (Numberic or Categorical Displot) <a id = 16 ></a> \n",
    "\n",
    "       "
   ]
  },
  {
   "cell_type": "code",
   "execution_count": 25,
   "id": "b57f9568",
   "metadata": {
    "execution": {
     "iopub.execute_input": "2025-01-17T01:42:19.610628Z",
     "iopub.status.busy": "2025-01-17T01:42:19.610286Z",
     "iopub.status.idle": "2025-01-17T01:42:19.615647Z",
     "shell.execute_reply": "2025-01-17T01:42:19.614829Z"
    },
    "papermill": {
     "duration": 0.025213,
     "end_time": "2025-01-17T01:42:19.617226",
     "exception": false,
     "start_time": "2025-01-17T01:42:19.592013",
     "status": "completed"
    },
    "tags": []
   },
   "outputs": [
    {
     "data": {
      "text/plain": [
       "['age', 'trtbps', 'chol', 'thalachh', 'oldpeak']"
      ]
     },
     "execution_count": 25,
     "metadata": {},
     "output_type": "execute_result"
    }
   ],
   "source": [
    "numeric_var"
   ]
  },
  {
   "cell_type": "code",
   "execution_count": 26,
   "id": "078669f3",
   "metadata": {
    "execution": {
     "iopub.execute_input": "2025-01-17T01:42:19.654229Z",
     "iopub.status.busy": "2025-01-17T01:42:19.653756Z",
     "iopub.status.idle": "2025-01-17T01:42:19.658131Z",
     "shell.execute_reply": "2025-01-17T01:42:19.657166Z"
    },
    "papermill": {
     "duration": 0.024791,
     "end_time": "2025-01-17T01:42:19.659860",
     "exception": false,
     "start_time": "2025-01-17T01:42:19.635069",
     "status": "completed"
    },
    "tags": []
   },
   "outputs": [],
   "source": [
    "numeric_axis_name = [\"Age of the Patient\", \"Resting Blood Pressure\", \"Cholesterol\", \"Maximum Heart Rate Achieved\", \"ST Depression\"]"
   ]
  },
  {
   "cell_type": "code",
   "execution_count": 27,
   "id": "91b620b1",
   "metadata": {
    "execution": {
     "iopub.execute_input": "2025-01-17T01:42:19.696830Z",
     "iopub.status.busy": "2025-01-17T01:42:19.696472Z",
     "iopub.status.idle": "2025-01-17T01:42:19.702324Z",
     "shell.execute_reply": "2025-01-17T01:42:19.701222Z"
    },
    "papermill": {
     "duration": 0.026195,
     "end_time": "2025-01-17T01:42:19.704010",
     "exception": false,
     "start_time": "2025-01-17T01:42:19.677815",
     "status": "completed"
    },
    "tags": []
   },
   "outputs": [
    {
     "data": {
      "text/plain": [
       "[('age', 'Age of the Patient'),\n",
       " ('trtbps', 'Resting Blood Pressure'),\n",
       " ('chol', 'Cholesterol'),\n",
       " ('thalachh', 'Maximum Heart Rate Achieved'),\n",
       " ('oldpeak', 'ST Depression')]"
      ]
     },
     "execution_count": 27,
     "metadata": {},
     "output_type": "execute_result"
    }
   ],
   "source": [
    "list(zip(numeric_var, numeric_axis_name))"
   ]
  },
  {
   "cell_type": "code",
   "execution_count": 28,
   "id": "46ea7469",
   "metadata": {
    "execution": {
     "iopub.execute_input": "2025-01-17T01:42:19.741168Z",
     "iopub.status.busy": "2025-01-17T01:42:19.740731Z",
     "iopub.status.idle": "2025-01-17T01:42:21.088180Z",
     "shell.execute_reply": "2025-01-17T01:42:21.087066Z"
    },
    "papermill": {
     "duration": 1.368006,
     "end_time": "2025-01-17T01:42:21.089911",
     "exception": false,
     "start_time": "2025-01-17T01:42:19.721905",
     "status": "completed"
    },
    "tags": []
   },
   "outputs": [
    {
     "data": {
      "image/png": "[encoded data removed]",
      "text/plain": [
       "<Figure size 640x480 with 1 Axes>"
      ]
     },
     "metadata": {},
     "output_type": "display_data"
    },
    {
     "data": {
      "image/png": "[encoded data removed]",
      "text/plain": [
       "<Figure size 640x480 with 1 Axes>"
      ]
     },
     "metadata": {},
     "output_type": "display_data"
    },
    {
     "data": {
      "image/png": "[encoded data removed]",
      "text/plain": [
       "<Figure size 640x480 with 1 Axes>"
      ]
     },
     "metadata": {},
     "output_type": "display_data"
    },
    {
     "data": {
      "image/png": "[encoded data removed]",
      "text/plain": [
       "<Figure size 640x480 with 1 Axes>"
      ]
     },
     "metadata": {},
     "output_type": "display_data"
    },
    {
     "data": {
      "image/png": "[encoded data removed]",
      "text/plain": [
       "<Figure size 640x480 with 1 Axes>"
      ]
     },
     "metadata": {},
     "output_type": "display_data"
    }
   ],
   "source": [
    "title_font = {\"family\": \"arial\", \"color\": \"darkred\", \"weight\": \"bold\", \"size\": 15}\n",
    "axis_font =   {\"family\": \"arial\", \"color\": \"darkred\", \"weight\": \"bold\", \"size\": 13}\n",
    "\n",
    "for i, z in list(zip (numeric_var, numeric_axis_name)):\n",
    "    plt.figure(figsize= (8,6), dpi= 80 )\n",
    "    sns.distplot(df[i], hist_kws= dict(linewidth =1, edgecolor = 'k'), bins=20)\n",
    "\n",
    "plt.title(i, fontdict = title_font)\n",
    "plt.xlabel(z, fontdict = axis_font)\n",
    "plt.ylabel(\"Density\", fontdict = axis_font)\n",
    "\n",
    "plt.tight_layout()\n",
    "plt.show()"
   ]
  },
  {
   "cell_type": "code",
   "execution_count": null,
   "id": "8d5e9771",
   "metadata": {
    "papermill": {
     "duration": 0.020836,
     "end_time": "2025-01-17T01:42:21.132496",
     "exception": false,
     "start_time": "2025-01-17T01:42:21.111660",
     "status": "completed"
    },
    "tags": []
   },
   "outputs": [],
   "source": []
  },
  {
   "cell_type": "code",
   "execution_count": null,
   "id": "ad6306eb",
   "metadata": {
    "papermill": {
     "duration": 0.02073,
     "end_time": "2025-01-17T01:42:21.174071",
     "exception": false,
     "start_time": "2025-01-17T01:42:21.153341",
     "status": "completed"
    },
    "tags": []
   },
   "outputs": [],
   "source": []
  },
  {
   "cell_type": "markdown",
   "id": "dd70c384",
   "metadata": {
    "papermill": {
     "duration": 0.021406,
     "end_time": "2025-01-17T01:42:21.216403",
     "exception": false,
     "start_time": "2025-01-17T01:42:21.194997",
     "status": "completed"
    },
    "tags": []
   },
   "source": [
    "#### 4.1.1 Numerical Variable Analysis <a id = 17 ></a> \n"
   ]
  },
  {
   "cell_type": "code",
   "execution_count": null,
   "id": "8d8b8499",
   "metadata": {
    "papermill": {
     "duration": 0.020693,
     "end_time": "2025-01-17T01:42:21.258078",
     "exception": false,
     "start_time": "2025-01-17T01:42:21.237385",
     "status": "completed"
    },
    "tags": []
   },
   "outputs": [],
   "source": []
  },
  {
   "cell_type": "markdown",
   "id": "5388eb39",
   "metadata": {
    "papermill": {
     "duration": 0.020479,
     "end_time": "2025-01-17T01:42:21.299522",
     "exception": false,
     "start_time": "2025-01-17T01:42:21.279043",
     "status": "completed"
    },
    "tags": []
   },
   "source": [
    "#### 4.1.2 Categorical Variables(Analysis with Pie Chart) <a id = 18 ></a> \n"
   ]
  },
  {
   "cell_type": "code",
   "execution_count": null,
   "id": "316191c8",
   "metadata": {
    "papermill": {
     "duration": 0.02099,
     "end_time": "2025-01-17T01:42:21.341489",
     "exception": false,
     "start_time": "2025-01-17T01:42:21.320499",
     "status": "completed"
    },
    "tags": []
   },
   "outputs": [],
   "source": []
  },
  {
   "cell_type": "code",
   "execution_count": null,
   "id": "7e7cfd06",
   "metadata": {
    "papermill": {
     "duration": 0.020661,
     "end_time": "2025-01-17T01:42:21.383303",
     "exception": false,
     "start_time": "2025-01-17T01:42:21.362642",
     "status": "completed"
    },
    "tags": []
   },
   "outputs": [],
   "source": []
  },
  {
   "cell_type": "code",
   "execution_count": null,
   "id": "d3ade9fc",
   "metadata": {
    "papermill": {
     "duration": 0.02044,
     "end_time": "2025-01-17T01:42:21.424617",
     "exception": false,
     "start_time": "2025-01-17T01:42:21.404177",
     "status": "completed"
    },
    "tags": []
   },
   "outputs": [],
   "source": []
  },
  {
   "cell_type": "code",
   "execution_count": null,
   "id": "cdfb3189",
   "metadata": {
    "papermill": {
     "duration": 0.020348,
     "end_time": "2025-01-17T01:42:21.465707",
     "exception": false,
     "start_time": "2025-01-17T01:42:21.445359",
     "status": "completed"
    },
    "tags": []
   },
   "outputs": [],
   "source": []
  },
  {
   "cell_type": "code",
   "execution_count": null,
   "id": "e666a149",
   "metadata": {
    "papermill": {
     "duration": 0.020392,
     "end_time": "2025-01-17T01:42:21.506830",
     "exception": false,
     "start_time": "2025-01-17T01:42:21.486438",
     "status": "completed"
    },
    "tags": []
   },
   "outputs": [],
   "source": []
  }
 ],
 "metadata": {
  "kaggle": {
   "accelerator": "none",
   "dataSources": [
    {
     "datasetId": 4741924,
     "sourceId": 8042706,
     "sourceType": "datasetVersion"
    }
   ],
   "dockerImageVersionId": 30822,
   "isGpuEnabled": false,
   "isInternetEnabled": true,
   "language": "python",
   "sourceType": "notebook"
  },
  "kernelspec": {
   "display_name": "Python 3",
   "language": "python",
   "name": "python3"
  },
  "language_info": {
   "codemirror_mode": {
    "name": "ipython",
    "version": 3
   },
   "file_extension": ".py",
   "mimetype": "text/x-python",
   "name": "python",
   "nbconvert_exporter": "python",
   "pygments_lexer": "ipython3",
   "version": "3.10.12"
  },
  "papermill": {
   "default_parameters": {},
   "duration": 12.343758,
   "end_time": "2025-01-17T01:42:22.247522",
   "environment_variables": {},
   "exception": null,
   "input_path": "__notebook__.ipynb",
   "output_path": "__notebook__.ipynb",
   "parameters": {},
   "start_time": "2025-01-17T01:42:09.903764",
   "version": "2.6.0"
  }
 },
 "nbformat": 4,
 "nbformat_minor": 5
}
